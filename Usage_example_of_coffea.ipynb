{
  "nbformat": 4,
  "nbformat_minor": 0,
  "metadata": {
    "colab": {
      "provenance": []
    },
    "kernelspec": {
      "name": "python3",
      "display_name": "Python 3"
    },
    "language_info": {
      "name": "python"
    }
  },
  "cells": [
    {
      "cell_type": "markdown",
      "source": [
        "## Getting a test root file"
      ],
      "metadata": {
        "id": "XrvvmYYtOmaG"
      }
    },
    {
      "cell_type": "code",
      "source": [
        "!wget {'https://raw.githubusercontent.com/scikit-hep/coffea/refs/heads/master/tests/samples/nano_dy.root'}"
      ],
      "metadata": {
        "colab": {
          "base_uri": "https://localhost:8080/"
        },
        "id": "a4USZp3l9V6q",
        "outputId": "cd842dc7-936f-4ad5-b209-1f63f252207d"
      },
      "execution_count": 2,
      "outputs": [
        {
          "output_type": "stream",
          "name": "stdout",
          "text": [
            "--2025-06-06 14:55:19--  https://raw.githubusercontent.com/scikit-hep/coffea/refs/heads/master/tests/samples/nano_dy.root\n",
            "Resolving raw.githubusercontent.com (raw.githubusercontent.com)... 185.199.109.133, 185.199.110.133, 185.199.108.133, ...\n",
            "Connecting to raw.githubusercontent.com (raw.githubusercontent.com)|185.199.109.133|:443... connected.\n",
            "HTTP request sent, awaiting response... 200 OK\n",
            "Length: 352599 (344K) [application/octet-stream]\n",
            "Saving to: ‘nano_dy.root.1’\n",
            "\n",
            "\rnano_dy.root.1        0%[                    ]       0  --.-KB/s               \rnano_dy.root.1      100%[===================>] 344.33K  --.-KB/s    in 0.06s   \n",
            "\n",
            "2025-06-06 14:55:20 (5.18 MB/s) - ‘nano_dy.root.1’ saved [352599/352599]\n",
            "\n"
          ]
        }
      ]
    },
    {
      "cell_type": "markdown",
      "source": [
        "## Installing libraries"
      ],
      "metadata": {
        "id": "ZmN9E3CXOhrX"
      }
    },
    {
      "cell_type": "code",
      "source": [
        "!pip install coffea"
      ],
      "metadata": {
        "colab": {
          "base_uri": "https://localhost:8080/"
        },
        "id": "VOuRVPrL5KCN",
        "outputId": "188b0690-0af6-482d-9e0f-85f091a36176"
      },
      "execution_count": 3,
      "outputs": [
        {
          "output_type": "stream",
          "name": "stdout",
          "text": [
            "Collecting coffea\n",
            "  Downloading coffea-2025.3.0-py3-none-any.whl.metadata (8.0 kB)\n",
            "Requirement already satisfied: aiohttp in /usr/local/lib/python3.11/dist-packages (from coffea) (3.11.15)\n",
            "Collecting awkward>=2.6.7 (from coffea)\n",
            "  Downloading awkward-2.8.3-py3-none-any.whl.metadata (7.0 kB)\n",
            "Requirement already satisfied: cachetools in /usr/local/lib/python3.11/dist-packages (from coffea) (5.5.2)\n",
            "Requirement already satisfied: cloudpickle>=1.2.3 in /usr/local/lib/python3.11/dist-packages (from coffea) (3.1.1)\n",
            "Collecting correctionlib>=2.6.0 (from coffea)\n",
            "  Downloading correctionlib-2.7.0-cp311-cp311-manylinux_2_17_x86_64.manylinux2014_x86_64.whl.metadata (7.3 kB)\n",
            "Collecting dask-awkward>=2025.2.0 (from coffea)\n",
            "  Downloading dask_awkward-2025.5.0-py3-none-any.whl.metadata (3.9 kB)\n",
            "Collecting dask-histogram>=2025.2.0 (from coffea)\n",
            "  Downloading dask_histogram-2025.2.0-py3-none-any.whl.metadata (3.8 kB)\n",
            "Requirement already satisfied: dask>=2024.3.0 in /usr/local/lib/python3.11/dist-packages (from dask[array]>=2024.3.0->coffea) (2024.12.1)\n",
            "Collecting fsspec-xrootd>=0.2.3 (from coffea)\n",
            "  Downloading fsspec_xrootd-0.5.1-py3-none-any.whl.metadata (4.0 kB)\n",
            "Collecting hist>=2 (from coffea)\n",
            "  Downloading hist-2.8.1-py3-none-any.whl.metadata (16 kB)\n",
            "Collecting lz4 (from coffea)\n",
            "  Downloading lz4-4.4.4-cp311-cp311-manylinux_2_17_x86_64.manylinux2014_x86_64.whl.metadata (3.8 kB)\n",
            "Requirement already satisfied: matplotlib>=3 in /usr/local/lib/python3.11/dist-packages (from coffea) (3.10.0)\n",
            "Collecting mplhep>=0.1.18 (from coffea)\n",
            "  Downloading mplhep-0.3.59-py3-none-any.whl.metadata (10 kB)\n",
            "Requirement already satisfied: numba>=0.58.1 in /usr/local/lib/python3.11/dist-packages (from coffea) (0.60.0)\n",
            "Requirement already satisfied: numpy>=1.22 in /usr/local/lib/python3.11/dist-packages (from coffea) (2.0.2)\n",
            "Requirement already satisfied: packaging in /usr/local/lib/python3.11/dist-packages (from coffea) (24.2)\n",
            "Requirement already satisfied: pandas in /usr/local/lib/python3.11/dist-packages (from coffea) (2.2.2)\n",
            "Requirement already satisfied: pyarrow>=6.0.0 in /usr/local/lib/python3.11/dist-packages (from coffea) (18.1.0)\n",
            "Requirement already satisfied: requests in /usr/local/lib/python3.11/dist-packages (from coffea) (2.32.3)\n",
            "Requirement already satisfied: scipy>=1.1.0 in /usr/local/lib/python3.11/dist-packages (from coffea) (1.15.3)\n",
            "Requirement already satisfied: toml>=0.10.2 in /usr/local/lib/python3.11/dist-packages (from coffea) (0.10.2)\n",
            "Requirement already satisfied: tqdm>=4.27.0 in /usr/local/lib/python3.11/dist-packages (from coffea) (4.67.1)\n",
            "Collecting uproot>=5.3.11 (from coffea)\n",
            "  Downloading uproot-5.6.2-py3-none-any.whl.metadata (33 kB)\n",
            "Collecting vector!=1.6.0,>=1.4.1 (from coffea)\n",
            "  Downloading vector-1.6.2-py3-none-any.whl.metadata (15 kB)\n",
            "Collecting awkward-cpp==46 (from awkward>=2.6.7->coffea)\n",
            "  Downloading awkward_cpp-46-cp311-cp311-manylinux_2_17_x86_64.manylinux2014_x86_64.whl.metadata (2.1 kB)\n",
            "Requirement already satisfied: fsspec>=2022.11.0 in /usr/local/lib/python3.11/dist-packages (from awkward>=2.6.7->coffea) (2025.3.2)\n",
            "Requirement already satisfied: importlib-metadata>=4.13.0 in /usr/local/lib/python3.11/dist-packages (from awkward>=2.6.7->coffea) (8.7.0)\n",
            "Requirement already satisfied: pydantic>=2 in /usr/local/lib/python3.11/dist-packages (from correctionlib>=2.6.0->coffea) (2.11.5)\n",
            "Requirement already satisfied: rich in /usr/local/lib/python3.11/dist-packages (from correctionlib>=2.6.0->coffea) (13.9.4)\n",
            "Requirement already satisfied: click>=8.1 in /usr/local/lib/python3.11/dist-packages (from dask>=2024.3.0->dask[array]>=2024.3.0->coffea) (8.2.1)\n",
            "Requirement already satisfied: partd>=1.4.0 in /usr/local/lib/python3.11/dist-packages (from dask>=2024.3.0->dask[array]>=2024.3.0->coffea) (1.4.2)\n",
            "Requirement already satisfied: pyyaml>=5.3.1 in /usr/local/lib/python3.11/dist-packages (from dask>=2024.3.0->dask[array]>=2024.3.0->coffea) (6.0.2)\n",
            "Requirement already satisfied: toolz>=0.10.0 in /usr/local/lib/python3.11/dist-packages (from dask>=2024.3.0->dask[array]>=2024.3.0->coffea) (0.12.1)\n",
            "Requirement already satisfied: typing-extensions>=4.8.0 in /usr/local/lib/python3.11/dist-packages (from dask-awkward>=2025.2.0->coffea) (4.13.2)\n",
            "Collecting boost-histogram>=1.3.2 (from dask-histogram>=2025.2.0->coffea)\n",
            "  Downloading boost_histogram-1.5.2-cp311-cp311-manylinux_2_17_x86_64.manylinux2014_x86_64.whl.metadata (23 kB)\n",
            "Collecting histoprint>=2.2.0 (from hist>=2->coffea)\n",
            "  Downloading histoprint-2.6.0-py3-none-any.whl.metadata (17 kB)\n",
            "Requirement already satisfied: contourpy>=1.0.1 in /usr/local/lib/python3.11/dist-packages (from matplotlib>=3->coffea) (1.3.2)\n",
            "Requirement already satisfied: cycler>=0.10 in /usr/local/lib/python3.11/dist-packages (from matplotlib>=3->coffea) (0.12.1)\n",
            "Requirement already satisfied: fonttools>=4.22.0 in /usr/local/lib/python3.11/dist-packages (from matplotlib>=3->coffea) (4.58.1)\n",
            "Requirement already satisfied: kiwisolver>=1.3.1 in /usr/local/lib/python3.11/dist-packages (from matplotlib>=3->coffea) (1.4.8)\n",
            "Requirement already satisfied: pillow>=8 in /usr/local/lib/python3.11/dist-packages (from matplotlib>=3->coffea) (11.2.1)\n",
            "Requirement already satisfied: pyparsing>=2.3.1 in /usr/local/lib/python3.11/dist-packages (from matplotlib>=3->coffea) (3.2.3)\n",
            "Requirement already satisfied: python-dateutil>=2.7 in /usr/local/lib/python3.11/dist-packages (from matplotlib>=3->coffea) (2.9.0.post0)\n",
            "Collecting mplhep-data>=0.0.4 (from mplhep>=0.1.18->coffea)\n",
            "  Downloading mplhep_data-0.0.4-py3-none-any.whl.metadata (3.4 kB)\n",
            "Collecting uhi>=0.2.0 (from mplhep>=0.1.18->coffea)\n",
            "  Downloading uhi-0.5.0-py3-none-any.whl.metadata (7.5 kB)\n",
            "Requirement already satisfied: llvmlite<0.44,>=0.43.0dev0 in /usr/local/lib/python3.11/dist-packages (from numba>=0.58.1->coffea) (0.43.0)\n",
            "Requirement already satisfied: cramjam>=2.5.0 in /usr/local/lib/python3.11/dist-packages (from uproot>=5.3.11->coffea) (2.10.0)\n",
            "Requirement already satisfied: xxhash in /usr/local/lib/python3.11/dist-packages (from uproot>=5.3.11->coffea) (3.5.0)\n",
            "Requirement already satisfied: aiohappyeyeballs>=2.3.0 in /usr/local/lib/python3.11/dist-packages (from aiohttp->coffea) (2.6.1)\n",
            "Requirement already satisfied: aiosignal>=1.1.2 in /usr/local/lib/python3.11/dist-packages (from aiohttp->coffea) (1.3.2)\n",
            "Requirement already satisfied: attrs>=17.3.0 in /usr/local/lib/python3.11/dist-packages (from aiohttp->coffea) (25.3.0)\n",
            "Requirement already satisfied: frozenlist>=1.1.1 in /usr/local/lib/python3.11/dist-packages (from aiohttp->coffea) (1.6.0)\n",
            "Requirement already satisfied: multidict<7.0,>=4.5 in /usr/local/lib/python3.11/dist-packages (from aiohttp->coffea) (6.4.4)\n",
            "Requirement already satisfied: propcache>=0.2.0 in /usr/local/lib/python3.11/dist-packages (from aiohttp->coffea) (0.3.1)\n",
            "Requirement already satisfied: yarl<2.0,>=1.17.0 in /usr/local/lib/python3.11/dist-packages (from aiohttp->coffea) (1.20.0)\n",
            "Requirement already satisfied: pytz>=2020.1 in /usr/local/lib/python3.11/dist-packages (from pandas->coffea) (2025.2)\n",
            "Requirement already satisfied: tzdata>=2022.7 in /usr/local/lib/python3.11/dist-packages (from pandas->coffea) (2025.2)\n",
            "Requirement already satisfied: charset-normalizer<4,>=2 in /usr/local/lib/python3.11/dist-packages (from requests->coffea) (3.4.2)\n",
            "Requirement already satisfied: idna<4,>=2.5 in /usr/local/lib/python3.11/dist-packages (from requests->coffea) (3.10)\n",
            "Requirement already satisfied: urllib3<3,>=1.21.1 in /usr/local/lib/python3.11/dist-packages (from requests->coffea) (2.4.0)\n",
            "Requirement already satisfied: certifi>=2017.4.17 in /usr/local/lib/python3.11/dist-packages (from requests->coffea) (2025.4.26)\n",
            "Requirement already satisfied: zipp>=3.20 in /usr/local/lib/python3.11/dist-packages (from importlib-metadata>=4.13.0->awkward>=2.6.7->coffea) (3.22.0)\n",
            "Requirement already satisfied: locket in /usr/local/lib/python3.11/dist-packages (from partd>=1.4.0->dask>=2024.3.0->dask[array]>=2024.3.0->coffea) (1.0.0)\n",
            "Requirement already satisfied: annotated-types>=0.6.0 in /usr/local/lib/python3.11/dist-packages (from pydantic>=2->correctionlib>=2.6.0->coffea) (0.7.0)\n",
            "Requirement already satisfied: pydantic-core==2.33.2 in /usr/local/lib/python3.11/dist-packages (from pydantic>=2->correctionlib>=2.6.0->coffea) (2.33.2)\n",
            "Requirement already satisfied: typing-inspection>=0.4.0 in /usr/local/lib/python3.11/dist-packages (from pydantic>=2->correctionlib>=2.6.0->coffea) (0.4.1)\n",
            "Requirement already satisfied: six>=1.5 in /usr/local/lib/python3.11/dist-packages (from python-dateutil>=2.7->matplotlib>=3->coffea) (1.17.0)\n",
            "Requirement already satisfied: markdown-it-py>=2.2.0 in /usr/local/lib/python3.11/dist-packages (from rich->correctionlib>=2.6.0->coffea) (3.0.0)\n",
            "Requirement already satisfied: pygments<3.0.0,>=2.13.0 in /usr/local/lib/python3.11/dist-packages (from rich->correctionlib>=2.6.0->coffea) (2.19.1)\n",
            "Requirement already satisfied: mdurl~=0.1 in /usr/local/lib/python3.11/dist-packages (from markdown-it-py>=2.2.0->rich->correctionlib>=2.6.0->coffea) (0.1.2)\n",
            "Downloading coffea-2025.3.0-py3-none-any.whl (197 kB)\n",
            "\u001b[2K   \u001b[90m━━━━━━━━━━━━━━━━━━━━━━━━━━━━━━━━━━━━━━━━\u001b[0m \u001b[32m197.8/197.8 kB\u001b[0m \u001b[31m5.2 MB/s\u001b[0m eta \u001b[36m0:00:00\u001b[0m\n",
            "\u001b[?25hDownloading awkward-2.8.3-py3-none-any.whl (886 kB)\n",
            "\u001b[2K   \u001b[90m━━━━━━━━━━━━━━━━━━━━━━━━━━━━━━━━━━━━━━━━\u001b[0m \u001b[32m886.1/886.1 kB\u001b[0m \u001b[31m16.3 MB/s\u001b[0m eta \u001b[36m0:00:00\u001b[0m\n",
            "\u001b[?25hDownloading awkward_cpp-46-cp311-cp311-manylinux_2_17_x86_64.manylinux2014_x86_64.whl (638 kB)\n",
            "\u001b[2K   \u001b[90m━━━━━━━━━━━━━━━━━━━━━━━━━━━━━━━━━━━━━━━━\u001b[0m \u001b[32m638.7/638.7 kB\u001b[0m \u001b[31m32.2 MB/s\u001b[0m eta \u001b[36m0:00:00\u001b[0m\n",
            "\u001b[?25hDownloading correctionlib-2.7.0-cp311-cp311-manylinux_2_17_x86_64.manylinux2014_x86_64.whl (436 kB)\n",
            "\u001b[2K   \u001b[90m━━━━━━━━━━━━━━━━━━━━━━━━━━━━━━━━━━━━━━━━\u001b[0m \u001b[32m436.1/436.1 kB\u001b[0m \u001b[31m26.7 MB/s\u001b[0m eta \u001b[36m0:00:00\u001b[0m\n",
            "\u001b[?25hDownloading dask_awkward-2025.5.0-py3-none-any.whl (90 kB)\n",
            "\u001b[2K   \u001b[90m━━━━━━━━━━━━━━━━━━━━━━━━━━━━━━━━━━━━━━━━\u001b[0m \u001b[32m90.1/90.1 kB\u001b[0m \u001b[31m7.6 MB/s\u001b[0m eta \u001b[36m0:00:00\u001b[0m\n",
            "\u001b[?25hDownloading dask_histogram-2025.2.0-py3-none-any.whl (27 kB)\n",
            "Downloading fsspec_xrootd-0.5.1-py3-none-any.whl (13 kB)\n",
            "Downloading hist-2.8.1-py3-none-any.whl (40 kB)\n",
            "\u001b[2K   \u001b[90m━━━━━━━━━━━━━━━━━━━━━━━━━━━━━━━━━━━━━━━━\u001b[0m \u001b[32m40.9/40.9 kB\u001b[0m \u001b[31m1.6 MB/s\u001b[0m eta \u001b[36m0:00:00\u001b[0m\n",
            "\u001b[?25hDownloading mplhep-0.3.59-py3-none-any.whl (42 kB)\n",
            "\u001b[2K   \u001b[90m━━━━━━━━━━━━━━━━━━━━━━━━━━━━━━━━━━━━━━━━\u001b[0m \u001b[32m43.0/43.0 kB\u001b[0m \u001b[31m2.1 MB/s\u001b[0m eta \u001b[36m0:00:00\u001b[0m\n",
            "\u001b[?25hDownloading uproot-5.6.2-py3-none-any.whl (375 kB)\n",
            "\u001b[2K   \u001b[90m━━━━━━━━━━━━━━━━━━━━━━━━━━━━━━━━━━━━━━━━\u001b[0m \u001b[32m375.7/375.7 kB\u001b[0m \u001b[31m25.4 MB/s\u001b[0m eta \u001b[36m0:00:00\u001b[0m\n",
            "\u001b[?25hDownloading vector-1.6.2-py3-none-any.whl (177 kB)\n",
            "\u001b[2K   \u001b[90m━━━━━━━━━━━━━━━━━━━━━━━━━━━━━━━━━━━━━━━━\u001b[0m \u001b[32m177.8/177.8 kB\u001b[0m \u001b[31m13.9 MB/s\u001b[0m eta \u001b[36m0:00:00\u001b[0m\n",
            "\u001b[?25hDownloading lz4-4.4.4-cp311-cp311-manylinux_2_17_x86_64.manylinux2014_x86_64.whl (1.3 MB)\n",
            "\u001b[2K   \u001b[90m━━━━━━━━━━━━━━━━━━━━━━━━━━━━━━━━━━━━━━━━\u001b[0m \u001b[32m1.3/1.3 MB\u001b[0m \u001b[31m39.8 MB/s\u001b[0m eta \u001b[36m0:00:00\u001b[0m\n",
            "\u001b[?25hDownloading boost_histogram-1.5.2-cp311-cp311-manylinux_2_17_x86_64.manylinux2014_x86_64.whl (1.1 MB)\n",
            "\u001b[2K   \u001b[90m━━━━━━━━━━━━━━━━━━━━━━━━━━━━━━━━━━━━━━━━\u001b[0m \u001b[32m1.1/1.1 MB\u001b[0m \u001b[31m46.5 MB/s\u001b[0m eta \u001b[36m0:00:00\u001b[0m\n",
            "\u001b[?25hDownloading histoprint-2.6.0-py3-none-any.whl (16 kB)\n",
            "Downloading mplhep_data-0.0.4-py3-none-any.whl (9.1 MB)\n",
            "\u001b[2K   \u001b[90m━━━━━━━━━━━━━━━━━━━━━━━━━━━━━━━━━━━━━━━━\u001b[0m \u001b[32m9.1/9.1 MB\u001b[0m \u001b[31m58.2 MB/s\u001b[0m eta \u001b[36m0:00:00\u001b[0m\n",
            "\u001b[?25hDownloading uhi-0.5.0-py3-none-any.whl (13 kB)\n",
            "Installing collected packages: vector, uhi, mplhep-data, lz4, fsspec-xrootd, boost-histogram, awkward-cpp, histoprint, awkward, uproot, mplhep, hist, dask-awkward, correctionlib, dask-histogram, coffea\n",
            "Successfully installed awkward-2.8.3 awkward-cpp-46 boost-histogram-1.5.2 coffea-2025.3.0 correctionlib-2.7.0 dask-awkward-2025.5.0 dask-histogram-2025.2.0 fsspec-xrootd-0.5.1 hist-2.8.1 histoprint-2.6.0 lz4-4.4.4 mplhep-0.3.59 mplhep-data-0.0.4 uhi-0.5.0 uproot-5.6.2 vector-1.6.2\n"
          ]
        }
      ]
    },
    {
      "cell_type": "markdown",
      "source": [
        "## Coffea"
      ],
      "metadata": {
        "id": "dzbE1BdRiW81"
      }
    },
    {
      "cell_type": "code",
      "source": [
        "from coffea.nanoevents import NanoEventsFactory, NanoAODSchema\n",
        "\n",
        "fname = \"nano_dy.root\"\n",
        "events = NanoEventsFactory.from_root(\n",
        "    {fname: \"Events\"},\n",
        "    metadata={\"dataset\": \"DYJets\"},\n",
        "    schemaclass=NanoAODSchema,\n",
        "    delayed = False,\n",
        ")"
      ],
      "metadata": {
        "colab": {
          "base_uri": "https://localhost:8080/"
        },
        "id": "GNxyG7waiYI-",
        "outputId": "a5d612d1-de01-43f7-f3a8-f54cfc09db46"
      },
      "execution_count": 4,
      "outputs": [
        {
          "output_type": "stream",
          "name": "stderr",
          "text": [
            "/usr/local/lib/python3.11/dist-packages/coffea/nanoevents/schemas/fcc.py:5: FutureWarning: In version 2025.1.0 (target date: 2024-12-31 11:59:59-06:00), this will be an error.\n",
            "To raise these warnings as errors (and get stack traces to find out where they're called), run\n",
            "    import warnings\n",
            "    warnings.filterwarnings(\"error\", module=\"coffea.*\")\n",
            "after the first `import coffea` or use `@pytest.mark.filterwarnings(\"error:::coffea.*\")` in pytest.\n",
            "Issue: coffea.nanoevents.methods.vector will be removed and replaced with scikit-hep vector. Nanoevents schemas internal to coffea will be migrated. Otherwise please consider using that package!.\n",
            "  from coffea.nanoevents.methods import vector\n",
            "/usr/local/lib/python3.11/dist-packages/coffea/nanoevents/schemas/nanoaod.py:264: RuntimeWarning: Missing cross-reference index for LowPtElectron_electronIdx => Electron\n",
            "  warnings.warn(\n",
            "/usr/local/lib/python3.11/dist-packages/coffea/nanoevents/schemas/nanoaod.py:264: RuntimeWarning: Missing cross-reference index for LowPtElectron_genPartIdx => GenPart\n",
            "  warnings.warn(\n",
            "/usr/local/lib/python3.11/dist-packages/coffea/nanoevents/schemas/nanoaod.py:264: RuntimeWarning: Missing cross-reference index for LowPtElectron_photonIdx => Photon\n",
            "  warnings.warn(\n",
            "/usr/local/lib/python3.11/dist-packages/coffea/nanoevents/schemas/nanoaod.py:264: RuntimeWarning: Missing cross-reference index for FatJet_genJetAK8Idx => GenJetAK8\n",
            "  warnings.warn(\n"
          ]
        }
      ]
    },
    {
      "cell_type": "code",
      "source": [
        "events = events.events()"
      ],
      "metadata": {
        "id": "-viLsTCVkKLu"
      },
      "execution_count": 5,
      "outputs": []
    },
    {
      "cell_type": "code",
      "source": [
        "events"
      ],
      "metadata": {
        "colab": {
          "base_uri": "https://localhost:8080/",
          "height": 434
        },
        "id": "u3NvM_GmPacO",
        "outputId": "e1d1e25a-790c-4e79-c26a-7bc29cabea3a"
      },
      "execution_count": 6,
      "outputs": [
        {
          "output_type": "execute_result",
          "data": {
            "text/html": [
              "<pre>[{PV: {ndof: 75.5, x: 0.0109, ...}, GenJet: [{...}, ...], ...},\n",
              " {PV: {ndof: 42, x: 0.0107, y: ..., ...}, GenJet: [{...}, ...], ...},\n",
              " {PV: {ndof: 78.2, x: 0.00815, ...}, GenJet: [{...}, ...], ...},\n",
              " {PV: {ndof: 62.8, x: 0.0116, ...}, GenJet: [{...}, ...], ...},\n",
              " {PV: {ndof: 160, x: 0.0108, ...}, GenJet: [{...}, ...], ...},\n",
              " {PV: {ndof: 52.2, x: 0.0103, ...}, GenJet: [{...}, ...], ...},\n",
              " {PV: {ndof: 24.6, x: 0.0107, ...}, GenJet: [{...}, ...], ...},\n",
              " {PV: {ndof: 106, x: 0.0101, ...}, GenJet: [{...}, ...], ...},\n",
              " {PV: {ndof: 68, x: 0.0144, y: ..., ...}, GenJet: [{...}, ...], ...},\n",
              " {PV: {ndof: 170, x: 0.0111, ...}, GenJet: [{...}, ...], ...},\n",
              " ...,\n",
              " {PV: {ndof: 117, x: 0.0103, ...}, GenJet: [{...}, ...], ...},\n",
              " {PV: {ndof: 32.5, x: 0.0063, ...}, GenJet: [{...}, ...], ...},\n",
              " {PV: {ndof: 128, x: 0.0104, ...}, GenJet: [{...}, ...], ...},\n",
              " {PV: {ndof: 6.31, x: 0.0141, ...}, GenJet: [{...}, ...], ...},\n",
              " {PV: {ndof: 19.6, x: 0.00948, ...}, GenJet: [{...}, ...], ...},\n",
              " {PV: {ndof: 139, x: 0.0115, ...}, GenJet: [{...}], ...},\n",
              " {PV: {ndof: 52.5, x: 0.012, ...}, GenJet: [{...}, ...], ...},\n",
              " {PV: {ndof: 84.5, x: 0.00822, ...}, GenJet: [{...}, ...], ...},\n",
              " {PV: {ndof: 84.5, x: 0.00904, ...}, GenJet: [{...}], ...}]\n",
              "---------------------------------------------------------------------\n",
              "backend: cpu\n",
              "nbytes: 243.3 kB\n",
              "type: 40 * event</pre>"
            ],
            "text/plain": [
              "<NanoEventsArray [<event 1:                13889:                3749778>, ...] type='...'>"
            ]
          },
          "metadata": {},
          "execution_count": 6
        }
      ]
    },
    {
      "cell_type": "code",
      "source": [
        "events[0]\n",
        "events[0].show(30)"
      ],
      "metadata": {
        "colab": {
          "base_uri": "https://localhost:8080/"
        },
        "id": "LCuTJ-8lPin-",
        "outputId": "865b98e6-f20f-411c-8455-d41815849de5"
      },
      "execution_count": 7,
      "outputs": [
        {
          "output_type": "stream",
          "name": "stdout",
          "text": [
            "{PV: {ndof: 75.5, x: 0.0109, y: 0.0397, z: -2.23, chi2: 0.791, score: ..., ...},\n",
            " GenJet: [{eta: 1.55, mass: 12.4, phi: -0.922, pt: 87.5, ...}, ..., {...}],\n",
            " SoftActivityJetHT5: 63.5,\n",
            " GenVisTau: [GenVisTau, GenVisTau],\n",
            " CaloMET: {phi: 2.79, pt: 32.1, sumEt: 652},\n",
            " Pileup: {nTrueInt: 22, pudensity: 1, gpudensity: 0.222, nPU: 21, ...},\n",
            " GenMET: {phi: 2.08, pt: 28.5},\n",
            " Generator: {binvar: -1, scalePDF: 95.4, weight: 2.63e+04, x1: 0.214, ...},\n",
            " fixedGridRhoFastjetCentralChargedPileUp: 9.14,\n",
            " L1: {AlwaysTrue: True, BPTX_AND_Ref1_VME: False, BPTX_AND_Ref3_VME: ..., ...},\n",
            " GenPart: [GenParticle, ..., GenParticle],\n",
            " fixedGridRhoFastjetCentralNeutral: 3.37,\n",
            " LHEPart: [{pt: 88.6, eta: 3.09, phi: 1.81, mass: 1.78, pdgId: -15}, ...],\n",
            " IsoTrack: [],\n",
            " fixedGridRhoFastjetCentral: 13.1,\n",
            " genTtbarId: 0,\n",
            " SoftActivityJetHT10: 63.5,\n",
            " Electron: [],\n",
            " HLTriggerFirstPath: False,\n",
            " L1simulation: {step: True},\n",
            " HLT: {AK8PFJet360_TrimMass30: False, AK8PFJet380_TrimMass30: False, ...},\n",
            " FatJet: [],\n",
            " GenDressedLepton: [],\n",
            " event: 3749778,\n",
            " LHEReweightingWeight: [],\n",
            " RawMET: {phi: 2.05, pt: 28.1, sumEt: 996},\n",
            " PSWeight: [1.01, 1.26, 0.99, 0.791],\n",
            " SubGenJetAK8: [],\n",
            " SoftActivityJetHT2: 72.3,\n",
            " ...}\n"
          ]
        }
      ]
    },
    {
      "cell_type": "code",
      "source": [
        "events.Jet"
      ],
      "metadata": {
        "colab": {
          "base_uri": "https://localhost:8080/",
          "height": 1000
        },
        "id": "YiZYV0suPrDa",
        "outputId": "05aed9ae-ad0b-41ee-f16e-2da7998a7f25"
      },
      "execution_count": 8,
      "outputs": [
        {
          "output_type": "execute_result",
          "data": {
            "text/html": [
              "<pre>[[Jet, ...],\n",
              " [Jet, ...],\n",
              " [Jet, ...],\n",
              " [Jet, ...],\n",
              " [Jet, ...],\n",
              " [Jet, ...],\n",
              " [Jet, ...],\n",
              " [Jet, ...],\n",
              " [{area: 0.499, btagCMVA: -0.853, btagCSVV2: -10, btagDeepB: -2, ...}],\n",
              " [Jet, ...],\n",
              " ...,\n",
              " [Jet, ...],\n",
              " [Jet, ...],\n",
              " [Jet, ...],\n",
              " [Jet, ...],\n",
              " [Jet, ...],\n",
              " [Jet, ...],\n",
              " [{area: 0.499, btagCMVA: -0.716, btagCSVV2: 0.297, btagDeepB: 0.0441, ...}],\n",
              " [Jet, ...],\n",
              " [Jet, ...]]\n",
              "----------------------------------------------------------------------------------------------------------------------------------------------------------------------------------------------------------------------------------------------------------------------------------------------------------------------------------------------------------------------------------------------------------------------------------------------------------------------------------------------------------------------------------------------------------------------------------------------------------------------------------------------------------------------------------------------------------------------------------------------------------------------------------------------------------------------------------------------------------------------------------------------------------------------------------------------------------------------------------------------------------------------------------------------------------------------------------------------------------------------------------------------------------------------------------------------------------------------------------------------------------------------------------------------------------------------------------------------------------------------------------------------------------------------------------------------------------------------------------------------------------------------------------------------------------------------------------------------------------------------------------------------------------------------------------------------------------------------------------------------------------------------------------------------------------------------------------------------------------------------------------------------------------------------------------------------------------------------------------------------------------------------------------------------------------------------------------------------------------------------------------------------------------------------------------------------------------------------------------------------------------------------------------------------------------------------------------------------------------------------------------------------------------------------------------------------------------------------------------------------------------------------------------------------------------------------------------------------------------------------------------------------------------------------------------------------------------------------------------------------------------------------------------------------------------------------------------------------------------------------------------------------------------------------------------------------------------------------------------------------------------------------------------------------------------------------------------------------------------------------------------------------------------------------------------------------------------------------------------------------------------------------------------------------------------------------------------------------------------------------------------------------------------------------------------------------------------------------------------------------------------------------------------------------------------------------------------------------------------------------------------------------------------------------------------------------------------------------------------------------------------------------------------------------------------------------------------------------------------------------------------------------------------\n",
              "backend: cpu\n",
              "nbytes: 43.4 kB\n",
              "type: 40 * var * Jet[\n",
              "    area: float32[parameters={&quot;__doc__&quot;: &quot;jet catchment area, for JECs&quot;}],\n",
              "    btagCMVA: float32[parameters={&quot;__doc__&quot;: &quot;CMVA V2 btag discriminator&quot;}],\n",
              "    btagCSVV2: float32[parameters={&quot;__doc__&quot;: &quot; pfCombinedInclusiveSecondaryVertexV2 b-tag discriminator (aka CSVV2)&quot;}],\n",
              "    btagDeepB: float32[parameters={&quot;__doc__&quot;: &quot;DeepCSV b+bb tag discriminator&quot;}],\n",
              "    btagDeepC: float32[parameters={&quot;__doc__&quot;: &quot;DeepCSV charm btag discriminator&quot;}],\n",
              "    btagDeepFlavB: float32[parameters={&quot;__doc__&quot;: &quot;DeepFlavour b+bb+lepb tag discriminator&quot;}],\n",
              "    btagDeepFlavC: float32[parameters={&quot;__doc__&quot;: &quot;DeepFlavour charm tag discriminator&quot;}],\n",
              "    chEmEF: float32[parameters={&quot;__doc__&quot;: &quot;charged Electromagnetic Energy Fraction&quot;}],\n",
              "    chHEF: float32[parameters={&quot;__doc__&quot;: &quot;charged Hadron Energy Fraction&quot;}],\n",
              "    eta: float32[parameters={&quot;__doc__&quot;: &quot;eta&quot;}],\n",
              "    jercCHF: float32[parameters={&quot;__doc__&quot;: &quot;Charged Hadron Energy Fraction with the JERC group definition&quot;}],\n",
              "    jercCHPUF: float32[parameters={&quot;__doc__&quot;: &quot;Pileup Charged Hadron Energy Fraction with the JERC group definition&quot;}],\n",
              "    mass: float32[parameters={&quot;__doc__&quot;: &quot;mass&quot;}],\n",
              "    muEF: float32[parameters={&quot;__doc__&quot;: &quot;muon Energy Fraction&quot;}],\n",
              "    muonSubtrFactor: float32[parameters={&quot;__doc__&quot;: &quot;1-(muon-subtracted raw pt)/(raw pt)&quot;}],\n",
              "    neEmEF: float32[parameters={&quot;__doc__&quot;: &quot;neutral Electromagnetic Energy Fraction&quot;}],\n",
              "    neHEF: float32[parameters={&quot;__doc__&quot;: &quot;neutral Hadron Energy Fraction&quot;}],\n",
              "    phi: float32[parameters={&quot;__doc__&quot;: &quot;phi&quot;}],\n",
              "    pt: float32[parameters={&quot;__doc__&quot;: &quot;pt&quot;}],\n",
              "    qgl: float32[parameters={&quot;__doc__&quot;: &quot;Quark vs Gluon likelihood discriminator&quot;}],\n",
              "    rawFactor: float32[parameters={&quot;__doc__&quot;: &quot;1 - Factor to get back to raw pT&quot;}],\n",
              "    bRegCorr: float32[parameters={&quot;__doc__&quot;: &quot;pt correction for b-jet energy regression&quot;}],\n",
              "    bRegRes: float32[parameters={&quot;__doc__&quot;: &quot;res on pt corrected with b-jet regression&quot;}],\n",
              "    electronIdx1: int32[parameters={&quot;__doc__&quot;: &quot;index of first matching electron&quot;}],\n",
              "    electronIdx2: int32[parameters={&quot;__doc__&quot;: &quot;index of second matching electron&quot;}],\n",
              "    jetId: int32[parameters={&quot;__doc__&quot;: &quot;Jet ID flags bit1 is loose (always false in 2017 since it does not exist), bit2 is tight, bit3 is tightLepVeto&quot;}],\n",
              "    muonIdx1: int32[parameters={&quot;__doc__&quot;: &quot;index of first matching muon&quot;}],\n",
              "    muonIdx2: int32[parameters={&quot;__doc__&quot;: &quot;index of second matching muon&quot;}],\n",
              "    nConstituents: int32[parameters={&quot;__doc__&quot;: &quot;Number of particles in the jet&quot;}],\n",
              "    nElectrons: int32[parameters={&quot;__doc__&quot;: &quot;number of electrons in the jet&quot;}],\n",
              "    nMuons: int32[parameters={&quot;__doc__&quot;: &quot;number of muons in the jet&quot;}],\n",
              "    puId: int32[parameters={&quot;__doc__&quot;: &quot;Pilup ID flags&quot;}],\n",
              "    genJetIdx: int32[parameters={&quot;__doc__&quot;: &quot;index of matched gen jet&quot;}],\n",
              "    hadronFlavour: int32[parameters={&quot;__doc__&quot;: &quot;flavour from hadron ghost clustering&quot;}],\n",
              "    partonFlavour: int32[parameters={&quot;__doc__&quot;: &quot;flavour from parton matching&quot;}],\n",
              "    cleanmask: uint8[parameters={&quot;__doc__&quot;: &quot;simple cleaning mask with priority to leptons&quot;}],\n",
              "    electronIdx1G: int64[parameters={&quot;__doc__&quot;: &quot;index of first matching electron&quot;}],\n",
              "    electronIdx2G: int64[parameters={&quot;__doc__&quot;: &quot;index of second matching electron&quot;}],\n",
              "    genJetIdxG: int64[parameters={&quot;__doc__&quot;: &quot;index of matched gen jet&quot;}],\n",
              "    muonIdx1G: int64[parameters={&quot;__doc__&quot;: &quot;index of first matching muon&quot;}],\n",
              "    muonIdx2G: int64[parameters={&quot;__doc__&quot;: &quot;index of second matching muon&quot;}],\n",
              "    muonIdxG: var * int64[parameters={&quot;__doc__&quot;: &quot;index of first matching muon&quot;}],\n",
              "    electronIdxG: var * int64[parameters={&quot;__doc__&quot;: &quot;index of first matching electron&quot;}], \n",
              "parameters={&quot;__doc__&quot;: &quot;slimmedJets, i.e. ak4 PFJets CHS with JECs applied, after basic selection (pt &gt; 15)&quot;, &quot;collection_name&quot;: &quot;Jet&quot;}]</pre>"
            ],
            "text/plain": [
              "<JetArray [[Jet, ..., Jet], ...] type='40 * var * Jet[area: float32[paramet...'>"
            ]
          },
          "metadata": {},
          "execution_count": 8
        }
      ]
    },
    {
      "cell_type": "code",
      "source": [
        "events[0].Jet"
      ],
      "metadata": {
        "colab": {
          "base_uri": "https://localhost:8080/",
          "height": 957
        },
        "id": "S1t259dPPzOY",
        "outputId": "4309f691-cf71-408c-86f4-aa0f445fc697"
      },
      "execution_count": 9,
      "outputs": [
        {
          "output_type": "execute_result",
          "data": {
            "text/html": [
              "<pre>[{area: 0.449, btagCMVA: -0.984, btagCSVV2: 0.0817, btagDeepB: 0.0134, ...},\n",
              " {area: 0.519, btagCMVA: -0.853, btagCSVV2: -10, btagDeepB: -2, ...},\n",
              " {area: 0.469, btagCMVA: -0.926, btagCSVV2: 0.326, btagDeepB: 0.0383, ...},\n",
              " {area: 0.529, btagCMVA: -0.853, btagCSVV2: -10, btagDeepB: -2, ...},\n",
              " {area: 0.519, btagCMVA: -0.853, btagCSVV2: -10, btagDeepB: -2, ...}]\n",
              "---------------------------------------------------------------------------------------------------------------------------------------------------------------------------------------------------------------------------------------------------------------------------------------------------------------------------------------------------------------------------------------------------------------------------------------------------------------------------------------------------------------------------------------------------------------------------------------------------------------------------------------------------------------------------------------------------------------------------------------------------------------------------------------------------------------------------------------------------------------------------------------------------------------------------------------------------------------------------------------------------------------------------------------------------------------------------------------------------------------------------------------------------------------------------------------------------------------------------------------------------------------------------------------------------------------------------------------------------------------------------------------------------------------------------------------------------------------------------------------------------------------------------------------------------------------------------------------------------------------------------------------------------------------------------------------------------------------------------------------------------------------------------------------------------------------------------------------------------------------------------------------------------------------------------------------------------------------------------------------------------------------------------------------------------------------------------------------------------------------------------------------------------------------------------------------------------------------------------------------------------------------------------------------------------------------------------------------------------------------------------------------------------------------------------------------------------------------------------------------------------------------------------------------------------------------------------------------------------------------------------------------------------------------------------------------------------------------------------------------------------------------------------------------------------------------------------------------------------------------------------------------------------------------------------------------------------------------------------------------------------------------------------------------------------------------------------------------------------------------------------------------------------------------------------------------------------------------------------------------------------------------------------------------------------------------------------------------------------------------------------------------------------------------------------------------------------------------------------------------------------------------------------------------------------------------------------------------------------------------------------------------------------------------------------------------------------------------------------------------------------------------------------------------------------------------------------------------------------------------------------------------------------\n",
              "backend: cpu\n",
              "nbytes: 7.0 kB\n",
              "type: 5 * Jet[\n",
              "    area: float32[parameters={&quot;__doc__&quot;: &quot;jet catchment area, for JECs&quot;}],\n",
              "    btagCMVA: float32[parameters={&quot;__doc__&quot;: &quot;CMVA V2 btag discriminator&quot;}],\n",
              "    btagCSVV2: float32[parameters={&quot;__doc__&quot;: &quot; pfCombinedInclusiveSecondaryVertexV2 b-tag discriminator (aka CSVV2)&quot;}],\n",
              "    btagDeepB: float32[parameters={&quot;__doc__&quot;: &quot;DeepCSV b+bb tag discriminator&quot;}],\n",
              "    btagDeepC: float32[parameters={&quot;__doc__&quot;: &quot;DeepCSV charm btag discriminator&quot;}],\n",
              "    btagDeepFlavB: float32[parameters={&quot;__doc__&quot;: &quot;DeepFlavour b+bb+lepb tag discriminator&quot;}],\n",
              "    btagDeepFlavC: float32[parameters={&quot;__doc__&quot;: &quot;DeepFlavour charm tag discriminator&quot;}],\n",
              "    chEmEF: float32[parameters={&quot;__doc__&quot;: &quot;charged Electromagnetic Energy Fraction&quot;}],\n",
              "    chHEF: float32[parameters={&quot;__doc__&quot;: &quot;charged Hadron Energy Fraction&quot;}],\n",
              "    eta: float32[parameters={&quot;__doc__&quot;: &quot;eta&quot;}],\n",
              "    jercCHF: float32[parameters={&quot;__doc__&quot;: &quot;Charged Hadron Energy Fraction with the JERC group definition&quot;}],\n",
              "    jercCHPUF: float32[parameters={&quot;__doc__&quot;: &quot;Pileup Charged Hadron Energy Fraction with the JERC group definition&quot;}],\n",
              "    mass: float32[parameters={&quot;__doc__&quot;: &quot;mass&quot;}],\n",
              "    muEF: float32[parameters={&quot;__doc__&quot;: &quot;muon Energy Fraction&quot;}],\n",
              "    muonSubtrFactor: float32[parameters={&quot;__doc__&quot;: &quot;1-(muon-subtracted raw pt)/(raw pt)&quot;}],\n",
              "    neEmEF: float32[parameters={&quot;__doc__&quot;: &quot;neutral Electromagnetic Energy Fraction&quot;}],\n",
              "    neHEF: float32[parameters={&quot;__doc__&quot;: &quot;neutral Hadron Energy Fraction&quot;}],\n",
              "    phi: float32[parameters={&quot;__doc__&quot;: &quot;phi&quot;}],\n",
              "    pt: float32[parameters={&quot;__doc__&quot;: &quot;pt&quot;}],\n",
              "    qgl: float32[parameters={&quot;__doc__&quot;: &quot;Quark vs Gluon likelihood discriminator&quot;}],\n",
              "    rawFactor: float32[parameters={&quot;__doc__&quot;: &quot;1 - Factor to get back to raw pT&quot;}],\n",
              "    bRegCorr: float32[parameters={&quot;__doc__&quot;: &quot;pt correction for b-jet energy regression&quot;}],\n",
              "    bRegRes: float32[parameters={&quot;__doc__&quot;: &quot;res on pt corrected with b-jet regression&quot;}],\n",
              "    electronIdx1: int32[parameters={&quot;__doc__&quot;: &quot;index of first matching electron&quot;}],\n",
              "    electronIdx2: int32[parameters={&quot;__doc__&quot;: &quot;index of second matching electron&quot;}],\n",
              "    jetId: int32[parameters={&quot;__doc__&quot;: &quot;Jet ID flags bit1 is loose (always false in 2017 since it does not exist), bit2 is tight, bit3 is tightLepVeto&quot;}],\n",
              "    muonIdx1: int32[parameters={&quot;__doc__&quot;: &quot;index of first matching muon&quot;}],\n",
              "    muonIdx2: int32[parameters={&quot;__doc__&quot;: &quot;index of second matching muon&quot;}],\n",
              "    nConstituents: int32[parameters={&quot;__doc__&quot;: &quot;Number of particles in the jet&quot;}],\n",
              "    nElectrons: int32[parameters={&quot;__doc__&quot;: &quot;number of electrons in the jet&quot;}],\n",
              "    nMuons: int32[parameters={&quot;__doc__&quot;: &quot;number of muons in the jet&quot;}],\n",
              "    puId: int32[parameters={&quot;__doc__&quot;: &quot;Pilup ID flags&quot;}],\n",
              "    genJetIdx: int32[parameters={&quot;__doc__&quot;: &quot;index of matched gen jet&quot;}],\n",
              "    hadronFlavour: int32[parameters={&quot;__doc__&quot;: &quot;flavour from hadron ghost clustering&quot;}],\n",
              "    partonFlavour: int32[parameters={&quot;__doc__&quot;: &quot;flavour from parton matching&quot;}],\n",
              "    cleanmask: uint8[parameters={&quot;__doc__&quot;: &quot;simple cleaning mask with priority to leptons&quot;}],\n",
              "    electronIdx1G: int64[parameters={&quot;__doc__&quot;: &quot;index of first matching electron&quot;}],\n",
              "    electronIdx2G: int64[parameters={&quot;__doc__&quot;: &quot;index of second matching electron&quot;}],\n",
              "    genJetIdxG: int64[parameters={&quot;__doc__&quot;: &quot;index of matched gen jet&quot;}],\n",
              "    muonIdx1G: int64[parameters={&quot;__doc__&quot;: &quot;index of first matching muon&quot;}],\n",
              "    muonIdx2G: int64[parameters={&quot;__doc__&quot;: &quot;index of second matching muon&quot;}],\n",
              "    muonIdxG: var * int64[parameters={&quot;__doc__&quot;: &quot;index of first matching muon&quot;}],\n",
              "    electronIdxG: var * int64[parameters={&quot;__doc__&quot;: &quot;index of first matching electron&quot;}], \n",
              "parameters={&quot;__doc__&quot;: &quot;slimmedJets, i.e. ak4 PFJets CHS with JECs applied, after basic selection (pt &gt; 15)&quot;, &quot;collection_name&quot;: &quot;Jet&quot;}]</pre>"
            ],
            "text/plain": [
              "<JetArray [Jet, ...] type='5 * Jet[area: float32[parameters={\"__doc__\": \"je...'>"
            ]
          },
          "metadata": {},
          "execution_count": 9
        }
      ]
    },
    {
      "cell_type": "code",
      "source": [
        "events[0].Jet.mass"
      ],
      "metadata": {
        "colab": {
          "base_uri": "https://localhost:8080/",
          "height": 173
        },
        "id": "P9uXbBe0XegJ",
        "outputId": "ae2449c4-08a4-4534-8b1f-4fd8aebfc672"
      },
      "execution_count": 10,
      "outputs": [
        {
          "output_type": "execute_result",
          "data": {
            "text/html": [
              "<pre>[11.7,\n",
              " 8.94,\n",
              " 2.69,\n",
              " 3.81,\n",
              " 4.23]\n",
              "-------------------------------------------------\n",
              "backend: cpu\n",
              "nbytes: 20 B\n",
              "type: 5 * float32[parameters={&quot;__doc__&quot;: &quot;mass&quot;}]</pre>"
            ],
            "text/plain": [
              "<Array [11.7, 8.94, 2.69, 3.81, 4.23] type='5 * float32[parameters={\"__doc_...'>"
            ]
          },
          "metadata": {},
          "execution_count": 10
        }
      ]
    }
  ]
}